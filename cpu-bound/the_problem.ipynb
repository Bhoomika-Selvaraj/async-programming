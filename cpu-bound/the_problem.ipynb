{
 "cells": [
  {
   "cell_type": "markdown",
   "id": "9844baed",
   "metadata": {},
   "source": [
    "Think of this, until now everything we did with asyncio was I/O-bound (network calls, sleep, file I/O). Async is perfect there because the event loop can switch tasks while one is waiting.\n",
    "\n",
    "But what if you have CPU-heavy work (e.g:resizing images, parsing a huge JSON)? Async alone won’t help, it will block the event loop."
   ]
  },
  {
   "cell_type": "code",
   "execution_count": null,
   "id": "d08551a6",
   "metadata": {},
   "outputs": [],
   "source": [
    "import asyncio\n",
    "import time\n",
    "\n",
    "def cpu_heavy(n):\n",
    "    print(\"Starting heavy work\")\n",
    "    time.sleep(3)   # simulating CPU blocking\n",
    "    print(\"Done heavy work\")\n",
    "    return n * n\n",
    "\n",
    "async def main():\n",
    "    result = cpu_heavy(10)   # blocks the event loop!\n",
    "    print(result)\n",
    "\n",
    "asyncio.run(main())"
   ]
  },
  {
   "cell_type": "markdown",
   "id": "335797fc",
   "metadata": {},
   "source": [
    "time.sleep(3) blocks the whole thread → event loop can’t run other tasks.\n",
    "If 100 requests hit your server, all are stuck until the CPU work finishes.\n",
    "\n",
    "**Hint**: We can spin up a new process to run the CPU-heavy function in the background. This is known as offloading to executor.\n",
    "\n",
    "That's where ProcessPoolExecutor comes in. It runs the CPU-heavy function in a separate process, so it doesn’t block the event loop. Now move to the soln ipynb for an extra mini-heart attack before ProcessPoolExecutor :)"
   ]
  }
 ],
 "metadata": {
  "kernelspec": {
   "display_name": "async",
   "language": "python",
   "name": "python3"
  },
  "language_info": {
   "codemirror_mode": {
    "name": "ipython",
    "version": 3
   },
   "file_extension": ".py",
   "mimetype": "text/x-python",
   "name": "python",
   "nbconvert_exporter": "python",
   "pygments_lexer": "ipython3",
   "version": "3.12.4"
  }
 },
 "nbformat": 4,
 "nbformat_minor": 5
}
